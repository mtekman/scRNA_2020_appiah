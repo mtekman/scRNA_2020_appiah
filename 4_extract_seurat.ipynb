{
 "cells": [
  {
   "cell_type": "markdown",
   "metadata": {},
   "source": [
    "# Extract Seurat matrices\n",
    "\n",
    "We were unable to convert the Seurat objects to loom or to anndata, so let's just extract the raw and normalised matrices and try to do a naive analysis with them"
   ]
  },
  {
   "cell_type": "code",
   "execution_count": 2,
   "metadata": {},
   "outputs": [],
   "source": [
    "library(Seurat)"
   ]
  },
  {
   "cell_type": "code",
   "execution_count": 3,
   "metadata": {},
   "outputs": [],
   "source": [
    "ecs = readRDS(\"~/Downloads/bismark/Electroporated_cells_seur.RData\")\n",
    "mcs = readRDS(\"~/Downloads/bismark/microinjected_cells_seur.RData\")"
   ]
  },
  {
   "cell_type": "code",
   "execution_count": 4,
   "metadata": {},
   "outputs": [
    {
     "data": {
      "text/plain": [
       "An object of class Seurat \n",
       "788 features across 711 samples within 1 assay \n",
       "Active assay: RNA (788 features, 0 variable features)\n",
       " 2 dimensional reductions calculated: pca, umap"
      ]
     },
     "metadata": {},
     "output_type": "display_data"
    }
   ],
   "source": [
    "ecs"
   ]
  },
  {
   "cell_type": "code",
   "execution_count": 5,
   "metadata": {},
   "outputs": [
    {
     "data": {
      "text/plain": [
       "An object of class Seurat \n",
       "789 features across 589 samples within 1 assay \n",
       "Active assay: RNA (789 features, 0 variable features)\n",
       " 2 dimensional reductions calculated: pca, umap"
      ]
     },
     "metadata": {},
     "output_type": "display_data"
    }
   ],
   "source": [
    "mcs"
   ]
  },
  {
   "cell_type": "code",
   "execution_count": 11,
   "metadata": {},
   "outputs": [],
   "source": [
    "ecs.clusters <- ecs$seurat_clusters\n",
    "mcs.clusters <- mcs$seurat_clusters"
   ]
  },
  {
   "cell_type": "code",
   "execution_count": 22,
   "metadata": {},
   "outputs": [
    {
     "name": "stdout",
     "output_type": "stream",
     "text": [
      "Formal class 'Seurat' [package \"Seurat\"] with 13 slots\n"
     ]
    },
    {
     "name": "stderr",
     "output_type": "stream",
     "text": [
      "Warning message:\n",
      "“Not a validObject(): no slot of name \"images\" for this object of class \"Seurat\"”\n"
     ]
    },
    {
     "name": "stdout",
     "output_type": "stream",
     "text": [
      "  ..@ assays      :List of 1\n",
      "  ..@ meta.data   :'data.frame':\t711 obs. of  50 variables:\n",
      "  ..@ active.assay: chr \"RNA\"\n",
      "  ..@ active.ident: Factor w/ 6 levels \"Apical progenitors\",..: 1 1 4 1 1 3 3 6 1 2 ...\n",
      "  .. ..- attr(*, \"names\")= chr [1:711] \"EUEE14DMSORP5_1\" \"EUEE14DMSORP5_2\" \"EUEE14DMSORP5_3\" \"EUEE14DMSORP5_4\" ...\n",
      "  ..@ graphs      :List of 2\n",
      "  ..@ neighbors   : list()\n",
      "  ..@ reductions  :List of 2\n",
      "  ..@ project.name: chr \"SingleCellExperiment\"\n",
      "  ..@ misc        : list()\n",
      "  ..@ version     :Classes 'package_version', 'numeric_version'  hidden list of 1\n",
      "  ..@ commands    :List of 7\n",
      "  ..@ tools       : list()\n",
      "  ..@ NA          : NULL\n"
     ]
    }
   ],
   "source": [
    "str(ecs, max.level = 2)"
   ]
  },
  {
   "cell_type": "code",
   "execution_count": 4,
   "metadata": {},
   "outputs": [],
   "source": [
    "ecs.labels <- ecs@active.ident\n",
    "mcs.labels <- mcs@active.ident"
   ]
  },
  {
   "cell_type": "code",
   "execution_count": 5,
   "metadata": {},
   "outputs": [],
   "source": [
    "# This includes: condition, cluster identity, lib size, various pct amounts\n",
    "ecs.data <- ecs@meta.data\n",
    "mcs.data <- mcs@meta.data"
   ]
  },
  {
   "cell_type": "code",
   "execution_count": 6,
   "metadata": {},
   "outputs": [],
   "source": [
    "ecs.matrix <- ecs@assays$RNA\n",
    "mcs.matrix <- mcs@assays$RNA"
   ]
  },
  {
   "cell_type": "code",
   "execution_count": 36,
   "metadata": {},
   "outputs": [
    {
     "name": "stdout",
     "output_type": "stream",
     "text": [
      "Formal class 'Assay' [package \"Seurat\"] with 8 slots\n"
     ]
    },
    {
     "name": "stderr",
     "output_type": "stream",
     "text": [
      "Warning message:\n",
      "“Not a validObject(): no slot of name \"assay.orig\" for this object of class \"Assay\"”\n"
     ]
    },
    {
     "name": "stdout",
     "output_type": "stream",
     "text": [
      "  ..@ counts       :Formal class 'dgCMatrix' [package \"Matrix\"] with 6 slots\n",
      "  ..@ data         : num [1:788, 1:711] 0 0 5.11 1.46 0 ...\n",
      "  .. ..- attr(*, \"dimnames\")=List of 2\n",
      "  ..@ scale.data   : num [1:788, 1:711] -1.093 -0.569 2.363 -0.799 -1.141 ...\n",
      "  .. ..- attr(*, \"dimnames\")=List of 2\n",
      "  ..@ key          : chr \"rna_\"\n",
      "  ..@ var.features : chr(0) \n",
      "  ..@ meta.features:'data.frame':\t788 obs. of  0 variables\n",
      "  ..@ misc         : symbol \u0001NULL\u0001\n",
      "  ..@ NA           : NULL\n"
     ]
    }
   ],
   "source": [
    "str(ecs.matrix, max.level = 2)"
   ]
  },
  {
   "cell_type": "code",
   "execution_count": 7,
   "metadata": {},
   "outputs": [],
   "source": [
    "ecs.counts <- ecs.matrix@data\n",
    "mcs.counts <- mcs.matrix@data\n",
    "ecs.scaled <- ecs.matrix@scale.data\n",
    "mcs.scaled <- mcs.matrix@scale.data"
   ]
  },
  {
   "cell_type": "markdown",
   "metadata": {},
   "source": [
    "It's unclear if the counts have been normalised or have had Grün's count-correction applied...  \n",
    "#sort(colSums(ecs.counts),decreasing = T)"
   ]
  },
  {
   "cell_type": "markdown",
   "metadata": {},
   "source": [
    "## Export all matrices"
   ]
  },
  {
   "cell_type": "code",
   "execution_count": 29,
   "metadata": {},
   "outputs": [],
   "source": [
    "dir.create(\"files//4_extract//\")"
   ]
  },
  {
   "cell_type": "code",
   "execution_count": 9,
   "metadata": {},
   "outputs": [],
   "source": [
    "writer <- function(data, fname){\n",
    "    write.table(t(data), file = fname, row.names = T, sep = \"\\t\", dec = \".\")\n",
    "}\n",
    "\n",
    "writer(ecs.data, \"files/4_extract/ecs.metadata.tsv\")\n",
    "writer(mcs.data, \"files/4_extract/mcs.metadata.tsv\") \n",
    "writer(ecs.counts, \"files/4_extract/ecs.counts.tsv\") \n",
    "writer(mcs.counts, \"files/4_extract/mcs.counts.tsv\") \n",
    "writer(ecs.scaled, \"files/4_extract/ecs.scaled.tsv\") \n",
    "writer(mcs.scaled, \"files/4_extract/mcs.scaled.tsv\") "
   ]
  },
  {
   "cell_type": "markdown",
   "metadata": {},
   "source": [
    "We will process the rest of these in ScanPy, either doing a naive analysis on the RAW matrices, or by utilising the meta to bypass the pre-processing"
   ]
  }
 ],
 "metadata": {
  "kernelspec": {
   "display_name": "R",
   "language": "R",
   "name": "ir"
  },
  "language_info": {
   "codemirror_mode": "r",
   "file_extension": ".r",
   "mimetype": "text/x-r-source",
   "name": "R",
   "pygments_lexer": "r",
   "version": "4.0.2"
  }
 },
 "nbformat": 4,
 "nbformat_minor": 4
}
